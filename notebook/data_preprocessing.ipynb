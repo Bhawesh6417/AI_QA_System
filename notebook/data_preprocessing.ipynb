{
  "nbformat": 4,
  "nbformat_minor": 0,
  "metadata": {
    "colab": {
      "provenance": []
    },
    "kernelspec": {
      "name": "python3",
      "display_name": "Python 3"
    },
    "language_info": {
      "name": "python"
    }
  },
  "cells": [
    {
      "cell_type": "code",
      "execution_count": null,
      "metadata": {
        "id": "o-KhqiVrAuBz"
      },
      "outputs": [],
      "source": [
        "import pandas as pd\n",
        "import json\n",
        "from sentence_transformers import SentenceTransformer\n",
        "\n",
        "# Load preprocessed data\n",
        "with open('../data/processed_lecture_notes.json', 'r') as file:\n",
        "    lecture_notes = json.load(file)\n",
        "\n",
        "milestone_papers = pd.read_csv('../data/processed_milestone_papers.csv')\n",
        "\n",
        "# Initialize the SentenceTransformer model\n",
        "model = SentenceTransformer('all-MiniLM-L6-v2')\n",
        "\n",
        "# Create embeddings\n",
        "lecture_notes_embeddings = model.encode([note['content'] for note in lecture_notes])\n",
        "milestone_papers_embeddings = model.encode(milestone_papers['summary'].tolist())\n",
        "\n",
        "# Save embeddings\n",
        "import numpy as np\n",
        "\n",
        "np.save('../data/lecture_notes_embeddings.npy', lecture_notes_embeddings)\n",
        "np.save('../data/milestone_papers_embeddings.npy', milestone_papers_embeddings)\n"
      ]
    }
  ]
}